{
 "cells": [
  {
   "cell_type": "markdown",
   "metadata": {
    "slideshow": {
     "slide_type": "slide"
    }
   },
   "source": [
    "# Lab 3: SQL Aggregation Queries\n",
    "\n",
    "### [name]"
   ]
  },
  {
   "cell_type": "markdown",
   "metadata": {
    "slideshow": {
     "slide_type": "fragment"
    }
   },
   "source": [
    "## Instruction\n",
    "This lab is due at 11:59 pm on Mar. 20. You need to finish all questions of both In-class Assginment and Homework. Write you name in the above cell. Name your ipynb file as **StudentName_lab3.ipynb** and submit it on Blackboard. \n",
    "\n",
    "PLEASE ENSURE THAT THE SCRIPT CAN CORRECTLY EXECUTE!!! "
   ]
  },
  {
   "cell_type": "code",
   "execution_count": 39,
   "metadata": {
    "slideshow": {
     "slide_type": "fragment"
    }
   },
   "outputs": [
    {
     "name": "stdout",
     "output_type": "stream",
     "text": [
      "The sql extension is already loaded. To reload it, use:\n",
      "  %reload_ext sql\n"
     ]
    }
   ],
   "source": [
    "#Let's connect to a database **lab3.db** using:\n",
    "%load_ext sql\n",
    "#%reload_ext sql\n",
    "%sql sqlite:///lab3.db"
   ]
  },
  {
   "cell_type": "markdown",
   "metadata": {
    "slideshow": {
     "slide_type": "fragment"
    }
   },
   "source": [
    "We will continue to use the following three tables. \n",
    "\n",
    "1. Employee(<u>eid</u>:integer, ename:string, age:integer, salary:real)\n",
    "\n",
    "2. Works(<u>eid</u>:integer, <u>did</u>:integer, pct_time:integer)\n",
    "\n",
    "3. Department(<u>did</u>:integer, dname:string, budge:real, managerid:integer)\n",
    "\n",
    "The keys are underlined in each relation. Relation **Employee** stores employee information such as unique identifier **eid**, employee name **ename**, **age** and **salary**. Relation **Department** stores the department unique identifier **did**, department name **dname**, the department **budget** and **managerid** which is the **eid** of the employee who is managing the department. The **managerid** value must always be found in the **eid** field of a record of the Employee relation. The Works relation tracks which\n",
    "employee works in which department, and what **percentage** of the time s/he allocates to that department. Note that, an employee can work in several departments."
   ]
  },
  {
   "cell_type": "markdown",
   "metadata": {
    "slideshow": {
     "slide_type": "slide"
    }
   },
   "source": [
    "\n",
    "1. Employee\n",
    "\n",
    "| eid     | ename         | age | salary |  \n",
    "|---------|---------------|-----|--------|\n",
    "| 101     | Andrew Fuller | 40  | 50000  |\n",
    "| 102     | Justin Peacock| 25  | 15000  |\n",
    "| 103     | Nancy Buchanan| 35  | 30000  |\n",
    "| 104     | Robert King   | 30  | 20000  |\n",
    "\n",
    "2. Works:\n",
    "\n",
    "| eid     | did  | pct_time | \n",
    "|---------|------|----------|\n",
    "| 101     | 1001 | 100      |\n",
    "| 102     | 1001 | 20       |\n",
    "| 102     | 1002 | 50       |\n",
    "| 102     | 1003 | 10       |\n",
    "| 103     | 1003 | 90       |\n",
    "| 103     | 1001 | 10       |\n",
    "| 104     | 1001 | 20       |\n",
    "| 104     | 1002 | 70       |\n",
    "\n",
    "3. Department:\n",
    "\n",
    "| did     | dname    | budget  | managerid |\n",
    "|---------|----------|---------|-----------|\n",
    "| 1001    | IT       | 500000  | 101       |\n",
    "| 1002    | Computing| 750000  | 110       |\n",
    "| 1003    | Finance  | 350000  | 103       |"
   ]
  },
  {
   "cell_type": "code",
   "execution_count": 2,
   "metadata": {},
   "outputs": [
    {
     "name": "stdout",
     "output_type": "stream",
     "text": [
      " * sqlite:///lab3.db\n",
      "Done.\n"
     ]
    },
    {
     "data": {
      "text/html": [
       "<table>\n",
       "    <thead>\n",
       "        <tr>\n",
       "            <th>eid</th>\n",
       "            <th>ename</th>\n",
       "            <th>age</th>\n",
       "            <th>salary</th>\n",
       "        </tr>\n",
       "    </thead>\n",
       "    <tbody>\n",
       "        <tr>\n",
       "            <td>101</td>\n",
       "            <td>Andrew Fuller</td>\n",
       "            <td>40</td>\n",
       "            <td>50000</td>\n",
       "        </tr>\n",
       "        <tr>\n",
       "            <td>102</td>\n",
       "            <td>Justin Peacock</td>\n",
       "            <td>25</td>\n",
       "            <td>15000</td>\n",
       "        </tr>\n",
       "        <tr>\n",
       "            <td>103</td>\n",
       "            <td>Nancy Buchanan</td>\n",
       "            <td>35</td>\n",
       "            <td>30000</td>\n",
       "        </tr>\n",
       "        <tr>\n",
       "            <td>104</td>\n",
       "            <td>Robert King</td>\n",
       "            <td>30</td>\n",
       "            <td>20000</td>\n",
       "        </tr>\n",
       "    </tbody>\n",
       "</table>"
      ],
      "text/plain": [
       "[(101, 'Andrew Fuller', 40, 50000),\n",
       " (102, 'Justin Peacock', 25, 15000),\n",
       " (103, 'Nancy Buchanan', 35, 30000),\n",
       " (104, 'Robert King', 30, 20000)]"
      ]
     },
     "execution_count": 2,
     "metadata": {},
     "output_type": "execute_result"
    }
   ],
   "source": [
    "%sql Select * from Employee"
   ]
  },
  {
   "cell_type": "markdown",
   "metadata": {
    "slideshow": {
     "slide_type": "slide"
    }
   },
   "source": [
    "## In-class Assignment"
   ]
  },
  {
   "cell_type": "markdown",
   "metadata": {},
   "source": [
    "### Exercise 1  [6 points]\n",
    "Find the average salary over all employees."
   ]
  },
  {
   "cell_type": "code",
   "execution_count": 40,
   "metadata": {},
   "outputs": [
    {
     "name": "stdout",
     "output_type": "stream",
     "text": [
      " * sqlite:///lab3.db\n",
      "Done.\n"
     ]
    },
    {
     "data": {
      "text/html": [
       "<table>\n",
       "    <thead>\n",
       "        <tr>\n",
       "            <th>Avg(E.salary)</th>\n",
       "        </tr>\n",
       "    </thead>\n",
       "    <tbody>\n",
       "        <tr>\n",
       "            <td>28750.0</td>\n",
       "        </tr>\n",
       "    </tbody>\n",
       "</table>"
      ],
      "text/plain": [
       "[(28750.0,)]"
      ]
     },
     "execution_count": 40,
     "metadata": {},
     "output_type": "execute_result"
    }
   ],
   "source": [
    "%%sql\n",
    "Select Avg(E.salary)\n",
    "From Employee E\n",
    "Where E.salary"
   ]
  },
  {
   "cell_type": "markdown",
   "metadata": {},
   "source": [
    "### Exercise 2  [6 points]\n",
    "Find the average age of employees for each department where every employee is 30 years old or\n",
    "younger. Please list the corresponding department id as well."
   ]
  },
  {
   "cell_type": "code",
   "execution_count": 14,
   "metadata": {},
   "outputs": [
    {
     "name": "stdout",
     "output_type": "stream",
     "text": [
      " * sqlite:///lab3.db\n",
      "Done.\n"
     ]
    },
    {
     "data": {
      "text/html": [
       "<table>\n",
       "    <thead>\n",
       "        <tr>\n",
       "            <th>Avg(E.age)</th>\n",
       "            <th>did</th>\n",
       "        </tr>\n",
       "    </thead>\n",
       "    <tbody>\n",
       "        <tr>\n",
       "            <td>27.5</td>\n",
       "            <td>1002</td>\n",
       "        </tr>\n",
       "        <tr>\n",
       "            <td>30.0</td>\n",
       "            <td>1003</td>\n",
       "        </tr>\n",
       "    </tbody>\n",
       "</table>"
      ],
      "text/plain": [
       "[(27.5, 1002), (30.0, 1003)]"
      ]
     },
     "execution_count": 14,
     "metadata": {},
     "output_type": "execute_result"
    }
   ],
   "source": [
    "%%sql\n",
    "Select Avg(E.age), D.did\n",
    "From Employee E, Department D, Works W\n",
    "Where (D.did = W.did AND\n",
    "       W.eid = E.eid)\n",
    "Group By D.did\n",
    "Having E.age <= 30"
   ]
  },
  {
   "cell_type": "markdown",
   "metadata": {},
   "source": [
    "### Exercise 3  [6 points]\n",
    "Find for each manager (listed in the output by eid) the average salary of employees working for\n",
    "that manager. "
   ]
  },
  {
   "cell_type": "code",
   "execution_count": 37,
   "metadata": {},
   "outputs": [
    {
     "name": "stdout",
     "output_type": "stream",
     "text": [
      " * sqlite:///lab3.db\n",
      "Done.\n"
     ]
    },
    {
     "data": {
      "text/html": [
       "<table>\n",
       "    <thead>\n",
       "        <tr>\n",
       "            <th>Avg(E.Salary)</th>\n",
       "            <th>managerid</th>\n",
       "        </tr>\n",
       "    </thead>\n",
       "    <tbody>\n",
       "        <tr>\n",
       "            <td>28750.0</td>\n",
       "            <td>101</td>\n",
       "        </tr>\n",
       "        <tr>\n",
       "            <td>22500.0</td>\n",
       "            <td>103</td>\n",
       "        </tr>\n",
       "        <tr>\n",
       "            <td>17500.0</td>\n",
       "            <td>110</td>\n",
       "        </tr>\n",
       "    </tbody>\n",
       "</table>"
      ],
      "text/plain": [
       "[(28750.0, 101), (22500.0, 103), (17500.0, 110)]"
      ]
     },
     "execution_count": 37,
     "metadata": {},
     "output_type": "execute_result"
    }
   ],
   "source": [
    "%%sql\n",
    "Select Avg(E.Salary), D.managerid\n",
    "From Employee E, Department D, Works W\n",
    "Where (E.eid = W.eid AND\n",
    "       D.did = W.did)\n",
    "Group By D.managerid"
   ]
  },
  {
   "cell_type": "markdown",
   "metadata": {
    "slideshow": {
     "slide_type": "slide"
    }
   },
   "source": [
    "### Exercise 4  [6 points]\n",
    "Find the maximum salary among employees 30 years old or yonger for each department with at least 2 employees of any age. Please list the corresponding department id as well."
   ]
  },
  {
   "cell_type": "code",
   "execution_count": 46,
   "metadata": {},
   "outputs": [
    {
     "name": "stdout",
     "output_type": "stream",
     "text": [
      " * sqlite:///lab3.db\n",
      "Done.\n"
     ]
    },
    {
     "data": {
      "text/html": [
       "<table>\n",
       "    <thead>\n",
       "        <tr>\n",
       "            <th>Max(E.salary)</th>\n",
       "            <th>did</th>\n",
       "        </tr>\n",
       "    </thead>\n",
       "    <tbody>\n",
       "        <tr>\n",
       "            <td>20000</td>\n",
       "            <td>1001</td>\n",
       "        </tr>\n",
       "        <tr>\n",
       "            <td>20000</td>\n",
       "            <td>1002</td>\n",
       "        </tr>\n",
       "        <tr>\n",
       "            <td>15000</td>\n",
       "            <td>1003</td>\n",
       "        </tr>\n",
       "    </tbody>\n",
       "</table>"
      ],
      "text/plain": [
       "[(20000, 1001), (20000, 1002), (15000, 1003)]"
      ]
     },
     "execution_count": 46,
     "metadata": {},
     "output_type": "execute_result"
    }
   ],
   "source": [
    "%%sql\n",
    "Select Max(E.salary), D.did\n",
    "From Works W, Employee E, Department D\n",
    "Where (E.age <= 30 AND\n",
    "       E.eid = W.eid AND\n",
    "       D.did = W.did)\n",
    "Group By D.did\n",
    "Having 2 <= (Select Count(*)\n",
    "           From Employee E1)"
   ]
  },
  {
   "cell_type": "markdown",
   "metadata": {},
   "source": [
    "### Exercise 5  [8 points]\n",
    "Find the name(s) of department(s) who have the highest average employee age."
   ]
  },
  {
   "cell_type": "code",
   "execution_count": 76,
   "metadata": {},
   "outputs": [
    {
     "name": "stdout",
     "output_type": "stream",
     "text": [
      " * sqlite:///lab3.db\n",
      "Done.\n"
     ]
    },
    {
     "data": {
      "text/html": [
       "<table>\n",
       "    <thead>\n",
       "        <tr>\n",
       "            <th>dname</th>\n",
       "            <th>Max(Temp.avgage)</th>\n",
       "        </tr>\n",
       "    </thead>\n",
       "    <tbody>\n",
       "        <tr>\n",
       "            <td>IT</td>\n",
       "            <td>32.5</td>\n",
       "        </tr>\n",
       "    </tbody>\n",
       "</table>"
      ],
      "text/plain": [
       "[('IT', 32.5)]"
      ]
     },
     "execution_count": 76,
     "metadata": {},
     "output_type": "execute_result"
    }
   ],
   "source": [
    "%%sql\n",
    "WITH Temp AS (\n",
    "    Select D.dname, AVG(E.age) AS avgage\n",
    "    From Department D, Employee E\n",
    "    Group By D.dname)\n",
    "Select D.dname, Max(Temp.avgage)\n",
    "From Temp, Department D\n",
    "\n",
    "#I figured out another way to implement the Temp table without creating it multiple times as you stated in office hours \n",
    "#I did this by using the WITH operator (The code doesnt run with these comments, they need to be deleted.)"
   ]
  },
  {
   "cell_type": "markdown",
   "metadata": {
    "slideshow": {
     "slide_type": "slide"
    }
   },
   "source": [
    "## Homework"
   ]
  },
  {
   "cell_type": "markdown",
   "metadata": {
    "slideshow": {
     "slide_type": "slide"
    }
   },
   "source": [
    "### Question 1 [9 points]\n",
    "Find the number of employees in each department. List the department name and its number of employees."
   ]
  },
  {
   "cell_type": "code",
   "execution_count": 33,
   "metadata": {
    "scrolled": true
   },
   "outputs": [
    {
     "name": "stdout",
     "output_type": "stream",
     "text": [
      " * sqlite:///lab3.db\n",
      "Done.\n"
     ]
    },
    {
     "data": {
      "text/html": [
       "<table>\n",
       "    <thead>\n",
       "        <tr>\n",
       "            <th>dname</th>\n",
       "            <th>Count(E.eid)</th>\n",
       "        </tr>\n",
       "    </thead>\n",
       "    <tbody>\n",
       "        <tr>\n",
       "            <td>IT</td>\n",
       "            <td>4</td>\n",
       "        </tr>\n",
       "        <tr>\n",
       "            <td>Computing</td>\n",
       "            <td>2</td>\n",
       "        </tr>\n",
       "        <tr>\n",
       "            <td>Finance</td>\n",
       "            <td>2</td>\n",
       "        </tr>\n",
       "    </tbody>\n",
       "</table>"
      ],
      "text/plain": [
       "[('IT', 4), ('Computing', 2), ('Finance', 2)]"
      ]
     },
     "execution_count": 33,
     "metadata": {},
     "output_type": "execute_result"
    }
   ],
   "source": [
    "%%sql\n",
    "Select D.dname, Count(E.eid)\n",
    "From Employee E, Works W, Department D\n",
    "Where (E.eid = W.eid AND\n",
    "       D.did = W.did)\n",
    "Group By D.did, D.dname"
   ]
  },
  {
   "cell_type": "markdown",
   "metadata": {
    "slideshow": {
     "slide_type": "slide"
    }
   },
   "source": [
    "### Question 2 [9 points]\n",
    "Find the total salary among employees 30 years old or yonger for each department with at least 2 such employees."
   ]
  },
  {
   "cell_type": "code",
   "execution_count": 36,
   "metadata": {},
   "outputs": [
    {
     "name": "stdout",
     "output_type": "stream",
     "text": [
      " * sqlite:///lab3.db\n",
      "Done.\n"
     ]
    },
    {
     "data": {
      "text/html": [
       "<table>\n",
       "    <thead>\n",
       "        <tr>\n",
       "            <th>dname</th>\n",
       "            <th>Sum(E.salary)</th>\n",
       "        </tr>\n",
       "    </thead>\n",
       "    <tbody>\n",
       "        <tr>\n",
       "            <td>IT</td>\n",
       "            <td>100000</td>\n",
       "        </tr>\n",
       "    </tbody>\n",
       "</table>"
      ],
      "text/plain": [
       "[('IT', 100000)]"
      ]
     },
     "execution_count": 36,
     "metadata": {},
     "output_type": "execute_result"
    }
   ],
   "source": [
    "%%sql\n",
    "Select D.dname, Sum(E.salary)\n",
    "From Employee E, Department D, Works W\n",
    "Where (E.age >=30 AND\n",
    "       E.eid = W.eid AND\n",
    "       D.did = W.did)\n",
    "Group By D.dname\n",
    "Having 2 <= Count(E.eid)"
   ]
  },
  {
   "cell_type": "code",
   "execution_count": null,
   "metadata": {},
   "outputs": [],
   "source": []
  }
 ],
 "metadata": {
  "kernelspec": {
   "display_name": "Python 3 (ipykernel)",
   "language": "python",
   "name": "python3"
  },
  "language_info": {
   "codemirror_mode": {
    "name": "ipython",
    "version": 3
   },
   "file_extension": ".py",
   "mimetype": "text/x-python",
   "name": "python",
   "nbconvert_exporter": "python",
   "pygments_lexer": "ipython3",
   "version": "3.11.5"
  }
 },
 "nbformat": 4,
 "nbformat_minor": 2
}
